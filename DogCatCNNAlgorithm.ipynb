{
  "nbformat": 4,
  "nbformat_minor": 0,
  "metadata": {
    "colab": {
      "name": "DogCatCNNAlgorithm ",
      "provenance": [],
      "collapsed_sections": [],
      "authorship_tag": "ABX9TyNs9u2rrL6ogxa1baChr/aQ",
      "include_colab_link": true
    },
    "kernelspec": {
      "name": "python3",
      "display_name": "Python 3"
    },
    "language_info": {
      "name": "python"
    }
  },
  "cells": [
    {
      "cell_type": "markdown",
      "metadata": {
        "id": "view-in-github",
        "colab_type": "text"
      },
      "source": [
        "<a href=\"https://colab.research.google.com/github/Chen-Wi-Ki/Colab-DogCat-CNN/blob/main/DogCatCNNAlgorithm.ipynb\" target=\"_parent\"><img src=\"https://colab.research.google.com/assets/colab-badge.svg\" alt=\"Open In Colab\"/></a>"
      ]
    },
    {
      "cell_type": "markdown",
      "source": [
        "# CNN經典範例--貓狗二值問題\n",
        "\n",
        "範例及圖像來源:https://www.kaggle.com/code/uysimty/keras-cnn-dog-or-cat-classification/notebook\n",
        "\n",
        "目前判斷能力並不准確,因為數據量過少,目前只有使用各100張貓狗圖片做訓練,本研究景只是使我去理解CNN處理二值問題時的整套過程，所以結果還不理想。"
      ],
      "metadata": {
        "id": "m146JgIgAIYE"
      }
    },
    {
      "cell_type": "code",
      "source": [
        "#使Colab可以讀取雲端硬碟資料\n",
        "from google.colab import drive\n",
        "drive.mount('/content/gdrive' , force_remount=True)"
      ],
      "metadata": {
        "colab": {
          "base_uri": "https://localhost:8080/"
        },
        "id": "gUN_q3VwABtl",
        "outputId": "93333595-045a-4c71-a6fd-48607861a34c"
      },
      "execution_count": null,
      "outputs": [
        {
          "output_type": "stream",
          "name": "stdout",
          "text": [
            "Mounted at /content/gdrive\n"
          ]
        }
      ]
    },
    {
      "cell_type": "code",
      "source": [
        "#自訂義雲端路徑\n",
        "!ls gdrive/MyDrive/南台專案工作筆記/類神經網路CNN/深度學習/DogByCat_Data/train"
      ],
      "metadata": {
        "colab": {
          "base_uri": "https://localhost:8080/"
        },
        "id": "O383_k1mASjb",
        "outputId": "59c27e11-9271-44c2-b95f-a8adc06889d5"
      },
      "execution_count": null,
      "outputs": [
        {
          "output_type": "stream",
          "name": "stdout",
          "text": [
            "cat.0.jpg   cat.41.jpg\tcat.72.jpg  dog.12.jpg\tdog.43.jpg  dog.74.jpg\n",
            "cat.10.jpg  cat.42.jpg\tcat.73.jpg  dog.13.jpg\tdog.44.jpg  dog.75.jpg\n",
            "cat.11.jpg  cat.43.jpg\tcat.74.jpg  dog.14.jpg\tdog.45.jpg  dog.76.jpg\n",
            "cat.12.jpg  cat.44.jpg\tcat.75.jpg  dog.15.jpg\tdog.46.jpg  dog.77.jpg\n",
            "cat.13.jpg  cat.45.jpg\tcat.76.jpg  dog.16.jpg\tdog.47.jpg  dog.78.jpg\n",
            "cat.14.jpg  cat.46.jpg\tcat.77.jpg  dog.17.jpg\tdog.48.jpg  dog.79.jpg\n",
            "cat.15.jpg  cat.47.jpg\tcat.78.jpg  dog.18.jpg\tdog.49.jpg  dog.7.jpg\n",
            "cat.16.jpg  cat.48.jpg\tcat.79.jpg  dog.19.jpg\tdog.4.jpg   dog.80.jpg\n",
            "cat.17.jpg  cat.49.jpg\tcat.7.jpg   dog.1.jpg\tdog.50.jpg  dog.81.jpg\n",
            "cat.18.jpg  cat.4.jpg\tcat.80.jpg  dog.20.jpg\tdog.51.jpg  dog.82.jpg\n",
            "cat.19.jpg  cat.50.jpg\tcat.81.jpg  dog.21.jpg\tdog.52.jpg  dog.83.jpg\n",
            "cat.1.jpg   cat.51.jpg\tcat.82.jpg  dog.22.jpg\tdog.53.jpg  dog.84.jpg\n",
            "cat.20.jpg  cat.52.jpg\tcat.83.jpg  dog.23.jpg\tdog.54.jpg  dog.85.jpg\n",
            "cat.21.jpg  cat.53.jpg\tcat.84.jpg  dog.24.jpg\tdog.55.jpg  dog.86.jpg\n",
            "cat.22.jpg  cat.54.jpg\tcat.85.jpg  dog.25.jpg\tdog.56.jpg  dog.87.jpg\n",
            "cat.23.jpg  cat.55.jpg\tcat.86.jpg  dog.26.jpg\tdog.57.jpg  dog.88.jpg\n",
            "cat.24.jpg  cat.56.jpg\tcat.87.jpg  dog.27.jpg\tdog.58.jpg  dog.89.jpg\n",
            "cat.25.jpg  cat.57.jpg\tcat.88.jpg  dog.28.jpg\tdog.59.jpg  dog.8.jpg\n",
            "cat.26.jpg  cat.58.jpg\tcat.89.jpg  dog.29.jpg\tdog.5.jpg   dog.90.jpg\n",
            "cat.27.jpg  cat.59.jpg\tcat.8.jpg   dog.2.jpg\tdog.60.jpg  dog.91.jpg\n",
            "cat.28.jpg  cat.5.jpg\tcat.90.jpg  dog.30.jpg\tdog.61.jpg  dog.92.jpg\n",
            "cat.29.jpg  cat.60.jpg\tcat.91.jpg  dog.31.jpg\tdog.62.jpg  dog.93.jpg\n",
            "cat.2.jpg   cat.61.jpg\tcat.92.jpg  dog.32.jpg\tdog.63.jpg  dog.94.jpg\n",
            "cat.31.jpg  cat.62.jpg\tcat.93.jpg  dog.33.jpg\tdog.64.jpg  dog.95.jpg\n",
            "cat.32.jpg  cat.63.jpg\tcat.94.jpg  dog.34.jpg\tdog.65.jpg  dog.96.jpg\n",
            "cat.33.jpg  cat.64.jpg\tcat.95.jpg  dog.35.jpg\tdog.66.jpg  dog.97.jpg\n",
            "cat.34.jpg  cat.65.jpg\tcat.96.jpg  dog.36.jpg\tdog.67.jpg  dog.98.jpg\n",
            "cat.35.jpg  cat.66.jpg\tcat.97.jpg  dog.37.jpg\tdog.68.jpg  dog.99.jpg\n",
            "cat.36.jpg  cat.67.jpg\tcat.98.jpg  dog.38.jpg\tdog.69.jpg  dog.9.jpg\n",
            "cat.37.jpg  cat.68.jpg\tcat.99.jpg  dog.39.jpg\tdog.6.jpg\n",
            "cat.38.jpg  cat.69.jpg\tcat.9.jpg   dog.3.jpg\tdog.70.jpg\n",
            "cat.39.jpg  cat.6.jpg\tdog.0.jpg   dog.40.jpg\tdog.71.jpg\n",
            "cat.3.jpg   cat.70.jpg\tdog.10.jpg  dog.41.jpg\tdog.72.jpg\n",
            "cat.40.jpg  cat.71.jpg\tdog.11.jpg  dog.42.jpg\tdog.73.jpg\n"
          ]
        }
      ]
    },
    {
      "cell_type": "code",
      "execution_count": null,
      "metadata": {
        "id": "eRFkFWgq5_Cs"
      },
      "outputs": [],
      "source": [
        "import numpy as np \n",
        "import pandas as pd \n",
        "import cv2\n",
        "import matplotlib.pyplot as plt\n",
        "import tensorflow as tf\n",
        "import os\n",
        "from tensorflow.keras.models import Sequential\n",
        "from tensorflow.keras.layers import Dense, Flatten, Dropout, Activation, Conv2D, MaxPooling2D"
      ]
    },
    {
      "cell_type": "code",
      "source": [
        "#依名稱設定成:Dog=0,Cat=1\n",
        "train_dir = \"gdrive/MyDrive/南台專案工作筆記/類神經網路CNN/深度學習/DogByCat_Data/train\"\n",
        "path = os.path.join(train_dir)\n",
        "X = []\n",
        "y = []\n",
        "convert = lambda category : int(category == 'dog')\n",
        "def create_test_data(path):\n",
        "    for p in os.listdir(path):\n",
        "        category = p.split(\".\")[0]\n",
        "        category = convert(category)\n",
        "        img_array = cv2.imread(os.path.join(path,p),cv2.IMREAD_GRAYSCALE)\n",
        "        new_img_array = cv2.resize(img_array, dsize=(80, 80))\n",
        "        X.append(new_img_array)\n",
        "        y.append(category)\n",
        "create_test_data(path)\n",
        "X = np.array(X).reshape(-1, 80,80,1)\n",
        "y = np.array(y)\n",
        "#Normalize data\n",
        "X = X/255.0"
      ],
      "metadata": {
        "id": "ScDrbRXnBzVr"
      },
      "execution_count": null,
      "outputs": []
    },
    {
      "cell_type": "code",
      "source": [
        "#卷積設定\n",
        "model = Sequential()\n",
        "# Adds a densely-connected layer with 64 units to the model:\n",
        "model.add(Conv2D(64,(3,3), activation = 'relu', input_shape = X.shape[1:]))\n",
        "model.add(MaxPooling2D(pool_size = (2,2)))\n",
        "# Add another:\n",
        "model.add(Conv2D(64,(3,3), activation = 'relu'))\n",
        "model.add(MaxPooling2D(pool_size = (2,2)))\n",
        "model.add(Flatten())\n",
        "model.add(Dense(64, activation='relu'))\n",
        "# Add a softmax layer with 10 output units:\n",
        "model.add(Dense(1, activation='sigmoid'))\n",
        "model.compile(optimizer=\"adam\",\n",
        "              loss='binary_crossentropy',\n",
        "              metrics=['accuracy'])"
      ],
      "metadata": {
        "id": "1va_Vlc5CAiJ"
      },
      "execution_count": null,
      "outputs": []
    },
    {
      "cell_type": "code",
      "source": [
        "#訓練10次\n",
        "model.fit(X, y, epochs=10, batch_size=32)"
      ],
      "metadata": {
        "colab": {
          "base_uri": "https://localhost:8080/"
        },
        "id": "8aCzCMe7CDwx",
        "outputId": "cfc81633-005d-4fb1-cae6-f25e28f36df5"
      },
      "execution_count": null,
      "outputs": [
        {
          "output_type": "stream",
          "name": "stdout",
          "text": [
            "Epoch 1/10\n",
            "7/7 [==============================] - 4s 363ms/step - loss: 0.7511 - accuracy: 0.5427\n",
            "Epoch 2/10\n",
            "7/7 [==============================] - 2s 332ms/step - loss: 0.7066 - accuracy: 0.5025\n",
            "Epoch 3/10\n",
            "7/7 [==============================] - 2s 349ms/step - loss: 0.6912 - accuracy: 0.5025\n",
            "Epoch 4/10\n",
            "7/7 [==============================] - 2s 347ms/step - loss: 0.6880 - accuracy: 0.5226\n",
            "Epoch 5/10\n",
            "7/7 [==============================] - 2s 346ms/step - loss: 0.6770 - accuracy: 0.6332\n",
            "Epoch 6/10\n",
            "7/7 [==============================] - 3s 349ms/step - loss: 0.6623 - accuracy: 0.6533\n",
            "Epoch 7/10\n",
            "7/7 [==============================] - 3s 408ms/step - loss: 0.6438 - accuracy: 0.6683\n",
            "Epoch 8/10\n",
            "7/7 [==============================] - 3s 342ms/step - loss: 0.6052 - accuracy: 0.7186\n",
            "Epoch 9/10\n",
            "7/7 [==============================] - 3s 353ms/step - loss: 0.5392 - accuracy: 0.7487\n",
            "Epoch 10/10\n",
            "7/7 [==============================] - 3s 362ms/step - loss: 0.5870 - accuracy: 0.7035\n"
          ]
        },
        {
          "output_type": "execute_result",
          "data": {
            "text/plain": [
              "<keras.callbacks.History at 0x7fede6799310>"
            ]
          },
          "metadata": {},
          "execution_count": 6
        }
      ]
    },
    {
      "cell_type": "code",
      "source": [
        "#測試\n",
        "rain_dir = \"gdrive/MyDrive/南台專案工作筆記/類神經網路CNN/深度學習/DogByCat_Data/test1\"\n",
        "path = os.path.join(train_dir)\n",
        "#os.listdir(path)\n",
        "X_test = []\n",
        "id_line = []\n",
        "def create_test1_data(path):\n",
        "    for p in os.listdir(path):\n",
        "        id_line.append(p.split(\".\")[0])\n",
        "        img_array = cv2.imread(os.path.join(path,p),cv2.IMREAD_GRAYSCALE)\n",
        "        new_img_array = cv2.resize(img_array, dsize=(80, 80))\n",
        "        X_test.append(new_img_array)\n",
        "create_test1_data(path)\n",
        "X_test = np.array(X_test).reshape(-1,80,80,1)\n",
        "X_test = X_test/255\n",
        "predictions = model.predict(X_test)\n",
        "predicted_val = [int(round(p[0])) for p in predictions]\n",
        "submission_df = pd.DataFrame({'id':id_line, 'label':predicted_val})\n",
        "print(submission_df)\n",
        "submission_df.to_csv(\"gdrive/MyDrive/南台專案工作筆記/類神經網路CNN/深度學習/DogByCat_Data/WiKisubmission100.csv\", index=False)"
      ],
      "metadata": {
        "colab": {
          "base_uri": "https://localhost:8080/"
        },
        "id": "j8qOg_e_CHvh",
        "outputId": "1a63926e-64f6-4e9d-c1c7-493495fc8bf6"
      },
      "execution_count": null,
      "outputs": [
        {
          "output_type": "stream",
          "name": "stdout",
          "text": [
            "   id  label\n",
            "0   4      1\n",
            "1   8      1\n",
            "2   9      0\n",
            "3   5      1\n",
            "4   3      1\n",
            "5  10      1\n",
            "6   2      1\n",
            "7   7      1\n",
            "8   6      1\n",
            "9   1      1\n"
          ]
        }
      ]
    },
    {
      "cell_type": "code",
      "source": [
        "#回讀上面Test的Excel結果(非必要)\n",
        "from pandas import read_csv\n",
        "df = read_csv('gdrive/MyDrive/南台專案工作筆記/類神經網路CNN/深度學習/DogByCat_Data/WiKisubmission100.csv')\n",
        "data = df.values\n",
        "print(data)"
      ],
      "metadata": {
        "id": "AIUc4TjGHIyG",
        "colab": {
          "base_uri": "https://localhost:8080/"
        },
        "outputId": "44040869-0090-43f3-b21d-454c252a3f3b"
      },
      "execution_count": null,
      "outputs": [
        {
          "output_type": "stream",
          "name": "stdout",
          "text": [
            "[[ 4  1]\n",
            " [ 8  1]\n",
            " [ 9  0]\n",
            " [ 5  1]\n",
            " [ 3  1]\n",
            " [10  1]\n",
            " [ 2  1]\n",
            " [ 7  1]\n",
            " [ 6  1]\n",
            " [ 1  1]]\n"
          ]
        }
      ]
    }
  ]
}